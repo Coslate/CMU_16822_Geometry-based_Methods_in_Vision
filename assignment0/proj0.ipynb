{
 "cells": [
  {
   "cell_type": "markdown",
   "metadata": {},
   "source": [
    "# **CMU 16822 Geometry-based Methods in Vision - Project 0 Submission**\n",
    "## Patrick Chen (AndrewID: bochunc)\n",
    "\n",
    "## Table of Contents\n",
    "1. [Task 1: 3D Shape Image](#task-1-3d-shape-image)\n",
    "3. [Task 2: Funny GIF](#task-2-funny-gif)\n",
    "\n",
    "---\n",
    "\n",
    "## Task 1: 3D Shape Image\n",
    "\n",
    "Here is a fascinating **3D shape** I found:\n",
    "\n",
    "![Image](./task2.avif)\n",
    "\n",
    "**Source**: [https://unsplash.com/s/photos/3d-render](https://unsplash.com/s/photos/3d-render)\n",
    "\n",
    "---\n",
    "\n",
    "## Task 2: Funny GIF\n",
    "\n",
    "Here is a funny GIF I found:\n",
    "\n",
    "![My Funniest GIF](./task3.gif)\n",
    "\n",
    "**Source**: [GIPHY](https://giphy.com/gifs/starwars-star-wars-the-force-awakens-bb-8-3o7abB06u9bNzA8lu8)"
   ]
  }
 ],
 "metadata": {
  "kernelspec": {
   "display_name": "ps0_venv",
   "language": "python",
   "name": "python3"
  },
  "language_info": {
   "codemirror_mode": {
    "name": "ipython",
    "version": 3
   },
   "file_extension": ".py",
   "mimetype": "text/x-python",
   "name": "python",
   "nbconvert_exporter": "python",
   "pygments_lexer": "ipython3",
   "version": "3.10.18"
  }
 },
 "nbformat": 4,
 "nbformat_minor": 2
}
