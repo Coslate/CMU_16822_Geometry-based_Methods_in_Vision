{
 "cells": [
  {
   "cell_type": "markdown",
   "metadata": {},
   "source": [
    "# **CMU 16822 Geometry-based Methods in Vision - Project 1 Submission**\n",
    "## Patrick Chen (AndrewID: bochunc)\n",
    "\n",
    "## Table of Contents\n",
    "1. [Q1: Affine Rectification](#Q-1-Affine-Rectification)\n",
    "2. [Q2: Metric Rectification](#Q-2-Metric-Rectification)\n",
    "2. [Q3: Planar Homography from Point Correspondences](#Q-3-Planar-Homography-from-Point-Correspondences)\n",
    "\n",
    "---"
   ]
  },
  {
   "cell_type": "markdown",
   "metadata": {},
   "source": [
    "## Q 1: Affine Rectification\n",
    "\n",
    "Here is a fascinating **3D shape** I found:\n",
    "\n",
    "![Image](./task2.avif)\n",
    "\n",
    "---"
   ]
  }
 ],
 "metadata": {
  "kernelspec": {
   "display_name": "ps0_venv",
   "language": "python",
   "name": "python3"
  },
  "language_info": {
   "codemirror_mode": {
    "name": "ipython",
    "version": 3
   },
   "file_extension": ".py",
   "mimetype": "text/x-python",
   "name": "python",
   "nbconvert_exporter": "python",
   "pygments_lexer": "ipython3",
   "version": "3.10.18"
  }
 },
 "nbformat": 4,
 "nbformat_minor": 2
}
